{
 "cells": [
  {
   "cell_type": "markdown",
   "metadata": {},
   "source": [
    "#                 Détection des intrusions réseaux par Machine Learning"
   ]
  },
  {
   "cell_type": "markdown",
   "metadata": {},
   "source": [
    "# Importing needed dependencies"
   ]
  },
  {
   "cell_type": "code",
   "execution_count": 63,
   "metadata": {},
   "outputs": [],
   "source": [
    "from sklearn import tree\n",
    "from sklearn.naive_bayes import GaussianNB\n",
    "from sklearn.neighbors import KNeighborsClassifier\n",
    "from sklearn.tree import DecisionTreeClassifier\n",
    "from sklearn.ensemble import RandomForestClassifier\n",
    "from sklearn.model_selection import train_test_split\n",
    "from sklearn import preprocessing \n",
    "from sklearn import metrics\n",
    "from sklearn.metrics import confusion_matrix,accuracy_score\n",
    "\n",
    "import pandas as pd\n",
    "import seaborn as sns \n"
   ]
  },
  {
   "cell_type": "markdown",
   "metadata": {},
   "source": [
    "# Data preprocessing\n"
   ]
  },
  {
   "cell_type": "markdown",
   "metadata": {},
   "source": [
    "# Exploring the raw data\n"
   ]
  },
  {
   "cell_type": "code",
   "execution_count": 2,
   "metadata": {},
   "outputs": [],
   "source": [
    "kddtrain=pd.read_csv('trainset.csv')\n",
    "kddtest=pd.read_csv('KDDTest.csv')"
   ]
  },
  {
   "cell_type": "code",
   "execution_count": 3,
   "metadata": {},
   "outputs": [
    {
     "data": {
      "text/html": [
       "<div>\n",
       "<style scoped>\n",
       "    .dataframe tbody tr th:only-of-type {\n",
       "        vertical-align: middle;\n",
       "    }\n",
       "\n",
       "    .dataframe tbody tr th {\n",
       "        vertical-align: top;\n",
       "    }\n",
       "\n",
       "    .dataframe thead th {\n",
       "        text-align: right;\n",
       "    }\n",
       "</style>\n",
       "<table border=\"1\" class=\"dataframe\">\n",
       "  <thead>\n",
       "    <tr style=\"text-align: right;\">\n",
       "      <th></th>\n",
       "      <th>ID</th>\n",
       "      <th>duration</th>\n",
       "      <th>protocol_type</th>\n",
       "      <th>service</th>\n",
       "      <th>flag</th>\n",
       "      <th>src_bytes</th>\n",
       "      <th>dst_bytes</th>\n",
       "      <th>land</th>\n",
       "      <th>wrong_fragment</th>\n",
       "      <th>urgent</th>\n",
       "      <th>...</th>\n",
       "      <th>dst_host_same_srv_rate</th>\n",
       "      <th>dst_host_diff_srv_rate</th>\n",
       "      <th>dst_host_same_src_port_rate</th>\n",
       "      <th>dst_host_srv_diff_host_rate</th>\n",
       "      <th>dst_host_serror_rate</th>\n",
       "      <th>dst_host_srv_serror_rate</th>\n",
       "      <th>dst_host_rerror_rate</th>\n",
       "      <th>class</th>\n",
       "      <th>num</th>\n",
       "      <th>categorie</th>\n",
       "    </tr>\n",
       "  </thead>\n",
       "  <tbody>\n",
       "    <tr>\n",
       "      <th>0</th>\n",
       "      <td>0</td>\n",
       "      <td>0</td>\n",
       "      <td>tcp</td>\n",
       "      <td>ftp_data</td>\n",
       "      <td>SF</td>\n",
       "      <td>491</td>\n",
       "      <td>0</td>\n",
       "      <td>0</td>\n",
       "      <td>0</td>\n",
       "      <td>0</td>\n",
       "      <td>...</td>\n",
       "      <td>0.03</td>\n",
       "      <td>0.17</td>\n",
       "      <td>0.00</td>\n",
       "      <td>0.00</td>\n",
       "      <td>0.00</td>\n",
       "      <td>0.05</td>\n",
       "      <td>0.00</td>\n",
       "      <td>normal</td>\n",
       "      <td>20</td>\n",
       "      <td>normal</td>\n",
       "    </tr>\n",
       "    <tr>\n",
       "      <th>1</th>\n",
       "      <td>1</td>\n",
       "      <td>0</td>\n",
       "      <td>udp</td>\n",
       "      <td>other</td>\n",
       "      <td>SF</td>\n",
       "      <td>146</td>\n",
       "      <td>0</td>\n",
       "      <td>0</td>\n",
       "      <td>0</td>\n",
       "      <td>0</td>\n",
       "      <td>...</td>\n",
       "      <td>0.60</td>\n",
       "      <td>0.88</td>\n",
       "      <td>0.00</td>\n",
       "      <td>0.00</td>\n",
       "      <td>0.00</td>\n",
       "      <td>0.00</td>\n",
       "      <td>0.00</td>\n",
       "      <td>normal</td>\n",
       "      <td>15</td>\n",
       "      <td>normal</td>\n",
       "    </tr>\n",
       "    <tr>\n",
       "      <th>2</th>\n",
       "      <td>2</td>\n",
       "      <td>0</td>\n",
       "      <td>tcp</td>\n",
       "      <td>private</td>\n",
       "      <td>S0</td>\n",
       "      <td>0</td>\n",
       "      <td>0</td>\n",
       "      <td>0</td>\n",
       "      <td>0</td>\n",
       "      <td>0</td>\n",
       "      <td>...</td>\n",
       "      <td>0.05</td>\n",
       "      <td>0.00</td>\n",
       "      <td>0.00</td>\n",
       "      <td>1.00</td>\n",
       "      <td>1.00</td>\n",
       "      <td>0.00</td>\n",
       "      <td>0.00</td>\n",
       "      <td>neptune</td>\n",
       "      <td>19</td>\n",
       "      <td>DOS</td>\n",
       "    </tr>\n",
       "    <tr>\n",
       "      <th>3</th>\n",
       "      <td>3</td>\n",
       "      <td>0</td>\n",
       "      <td>tcp</td>\n",
       "      <td>http</td>\n",
       "      <td>SF</td>\n",
       "      <td>232</td>\n",
       "      <td>8153</td>\n",
       "      <td>0</td>\n",
       "      <td>0</td>\n",
       "      <td>0</td>\n",
       "      <td>...</td>\n",
       "      <td>0.00</td>\n",
       "      <td>0.03</td>\n",
       "      <td>0.04</td>\n",
       "      <td>0.03</td>\n",
       "      <td>0.01</td>\n",
       "      <td>0.00</td>\n",
       "      <td>0.01</td>\n",
       "      <td>normal</td>\n",
       "      <td>21</td>\n",
       "      <td>normal</td>\n",
       "    </tr>\n",
       "    <tr>\n",
       "      <th>4</th>\n",
       "      <td>4</td>\n",
       "      <td>0</td>\n",
       "      <td>tcp</td>\n",
       "      <td>http</td>\n",
       "      <td>SF</td>\n",
       "      <td>199</td>\n",
       "      <td>420</td>\n",
       "      <td>0</td>\n",
       "      <td>0</td>\n",
       "      <td>0</td>\n",
       "      <td>...</td>\n",
       "      <td>0.00</td>\n",
       "      <td>0.00</td>\n",
       "      <td>0.00</td>\n",
       "      <td>0.00</td>\n",
       "      <td>0.00</td>\n",
       "      <td>0.00</td>\n",
       "      <td>0.00</td>\n",
       "      <td>normal</td>\n",
       "      <td>21</td>\n",
       "      <td>normal</td>\n",
       "    </tr>\n",
       "  </tbody>\n",
       "</table>\n",
       "<p>5 rows × 45 columns</p>\n",
       "</div>"
      ],
      "text/plain": [
       "   ID  duration protocol_type   service flag  src_bytes  dst_bytes  land  \\\n",
       "0   0         0           tcp  ftp_data   SF        491          0     0   \n",
       "1   1         0           udp     other   SF        146          0     0   \n",
       "2   2         0           tcp   private   S0          0          0     0   \n",
       "3   3         0           tcp      http   SF        232       8153     0   \n",
       "4   4         0           tcp      http   SF        199        420     0   \n",
       "\n",
       "   wrong_fragment  urgent    ...      dst_host_same_srv_rate  \\\n",
       "0               0       0    ...                        0.03   \n",
       "1               0       0    ...                        0.60   \n",
       "2               0       0    ...                        0.05   \n",
       "3               0       0    ...                        0.00   \n",
       "4               0       0    ...                        0.00   \n",
       "\n",
       "   dst_host_diff_srv_rate  dst_host_same_src_port_rate  \\\n",
       "0                    0.17                         0.00   \n",
       "1                    0.88                         0.00   \n",
       "2                    0.00                         0.00   \n",
       "3                    0.03                         0.04   \n",
       "4                    0.00                         0.00   \n",
       "\n",
       "   dst_host_srv_diff_host_rate  dst_host_serror_rate  \\\n",
       "0                         0.00                  0.00   \n",
       "1                         0.00                  0.00   \n",
       "2                         1.00                  1.00   \n",
       "3                         0.03                  0.01   \n",
       "4                         0.00                  0.00   \n",
       "\n",
       "   dst_host_srv_serror_rate  dst_host_rerror_rate    class  num  categorie  \n",
       "0                      0.05                  0.00   normal   20     normal  \n",
       "1                      0.00                  0.00   normal   15     normal  \n",
       "2                      0.00                  0.00  neptune   19        DOS  \n",
       "3                      0.00                  0.01   normal   21     normal  \n",
       "4                      0.00                  0.00   normal   21     normal  \n",
       "\n",
       "[5 rows x 45 columns]"
      ]
     },
     "execution_count": 3,
     "metadata": {},
     "output_type": "execute_result"
    }
   ],
   "source": [
    "kddtrain.head()"
   ]
  },
  {
   "cell_type": "code",
   "execution_count": 4,
   "metadata": {},
   "outputs": [
    {
     "data": {
      "text/html": [
       "<div>\n",
       "<style scoped>\n",
       "    .dataframe tbody tr th:only-of-type {\n",
       "        vertical-align: middle;\n",
       "    }\n",
       "\n",
       "    .dataframe tbody tr th {\n",
       "        vertical-align: top;\n",
       "    }\n",
       "\n",
       "    .dataframe thead th {\n",
       "        text-align: right;\n",
       "    }\n",
       "</style>\n",
       "<table border=\"1\" class=\"dataframe\">\n",
       "  <thead>\n",
       "    <tr style=\"text-align: right;\">\n",
       "      <th></th>\n",
       "      <th>ID</th>\n",
       "      <th>duration</th>\n",
       "      <th>protocol_type</th>\n",
       "      <th>service</th>\n",
       "      <th>flag</th>\n",
       "      <th>src_bytes</th>\n",
       "      <th>dst_bytes</th>\n",
       "      <th>land</th>\n",
       "      <th>wrong_fragment</th>\n",
       "      <th>urgent</th>\n",
       "      <th>...</th>\n",
       "      <th>dst_host_same_srv_rate</th>\n",
       "      <th>dst_host_diff_srv_rate</th>\n",
       "      <th>dst_host_same_src_port_rate</th>\n",
       "      <th>dst_host_srv_diff_host_rate</th>\n",
       "      <th>dst_host_serror_rate</th>\n",
       "      <th>dst_host_srv_serror_rate</th>\n",
       "      <th>dst_host_rerror_rate</th>\n",
       "      <th>class</th>\n",
       "      <th>num</th>\n",
       "      <th>categorie</th>\n",
       "    </tr>\n",
       "  </thead>\n",
       "  <tbody>\n",
       "    <tr>\n",
       "      <th>0</th>\n",
       "      <td>0</td>\n",
       "      <td>0</td>\n",
       "      <td>tcp</td>\n",
       "      <td>private</td>\n",
       "      <td>REJ</td>\n",
       "      <td>0</td>\n",
       "      <td>0</td>\n",
       "      <td>0</td>\n",
       "      <td>0</td>\n",
       "      <td>0</td>\n",
       "      <td>...</td>\n",
       "      <td>0.06</td>\n",
       "      <td>0.00</td>\n",
       "      <td>0.00</td>\n",
       "      <td>0.00</td>\n",
       "      <td>0.0</td>\n",
       "      <td>1.00</td>\n",
       "      <td>1.00</td>\n",
       "      <td>neptune</td>\n",
       "      <td>21</td>\n",
       "      <td>DOS</td>\n",
       "    </tr>\n",
       "    <tr>\n",
       "      <th>1</th>\n",
       "      <td>1</td>\n",
       "      <td>2</td>\n",
       "      <td>tcp</td>\n",
       "      <td>ftp_data</td>\n",
       "      <td>SF</td>\n",
       "      <td>12983</td>\n",
       "      <td>0</td>\n",
       "      <td>0</td>\n",
       "      <td>0</td>\n",
       "      <td>0</td>\n",
       "      <td>...</td>\n",
       "      <td>0.04</td>\n",
       "      <td>0.61</td>\n",
       "      <td>0.02</td>\n",
       "      <td>0.00</td>\n",
       "      <td>0.0</td>\n",
       "      <td>0.00</td>\n",
       "      <td>0.00</td>\n",
       "      <td>normal</td>\n",
       "      <td>21</td>\n",
       "      <td>normal</td>\n",
       "    </tr>\n",
       "    <tr>\n",
       "      <th>2</th>\n",
       "      <td>2</td>\n",
       "      <td>0</td>\n",
       "      <td>icmp</td>\n",
       "      <td>eco_i</td>\n",
       "      <td>SF</td>\n",
       "      <td>20</td>\n",
       "      <td>0</td>\n",
       "      <td>0</td>\n",
       "      <td>0</td>\n",
       "      <td>0</td>\n",
       "      <td>...</td>\n",
       "      <td>0.00</td>\n",
       "      <td>1.00</td>\n",
       "      <td>0.28</td>\n",
       "      <td>0.00</td>\n",
       "      <td>0.0</td>\n",
       "      <td>0.00</td>\n",
       "      <td>0.00</td>\n",
       "      <td>saint</td>\n",
       "      <td>15</td>\n",
       "      <td>unknown</td>\n",
       "    </tr>\n",
       "    <tr>\n",
       "      <th>3</th>\n",
       "      <td>3</td>\n",
       "      <td>1</td>\n",
       "      <td>tcp</td>\n",
       "      <td>telnet</td>\n",
       "      <td>RSTO</td>\n",
       "      <td>0</td>\n",
       "      <td>15</td>\n",
       "      <td>0</td>\n",
       "      <td>0</td>\n",
       "      <td>0</td>\n",
       "      <td>...</td>\n",
       "      <td>0.17</td>\n",
       "      <td>0.03</td>\n",
       "      <td>0.02</td>\n",
       "      <td>0.00</td>\n",
       "      <td>0.0</td>\n",
       "      <td>0.83</td>\n",
       "      <td>0.71</td>\n",
       "      <td>mscan</td>\n",
       "      <td>11</td>\n",
       "      <td>unknown</td>\n",
       "    </tr>\n",
       "    <tr>\n",
       "      <th>4</th>\n",
       "      <td>4</td>\n",
       "      <td>0</td>\n",
       "      <td>tcp</td>\n",
       "      <td>http</td>\n",
       "      <td>SF</td>\n",
       "      <td>267</td>\n",
       "      <td>14515</td>\n",
       "      <td>0</td>\n",
       "      <td>0</td>\n",
       "      <td>0</td>\n",
       "      <td>...</td>\n",
       "      <td>0.00</td>\n",
       "      <td>0.01</td>\n",
       "      <td>0.03</td>\n",
       "      <td>0.01</td>\n",
       "      <td>0.0</td>\n",
       "      <td>0.00</td>\n",
       "      <td>0.00</td>\n",
       "      <td>normal</td>\n",
       "      <td>21</td>\n",
       "      <td>normal</td>\n",
       "    </tr>\n",
       "  </tbody>\n",
       "</table>\n",
       "<p>5 rows × 45 columns</p>\n",
       "</div>"
      ],
      "text/plain": [
       "   ID  duration protocol_type   service  flag  src_bytes  dst_bytes  land  \\\n",
       "0   0         0           tcp   private   REJ          0          0     0   \n",
       "1   1         2           tcp  ftp_data    SF      12983          0     0   \n",
       "2   2         0          icmp     eco_i    SF         20          0     0   \n",
       "3   3         1           tcp    telnet  RSTO          0         15     0   \n",
       "4   4         0           tcp      http    SF        267      14515     0   \n",
       "\n",
       "   wrong_fragment  urgent    ...      dst_host_same_srv_rate  \\\n",
       "0               0       0    ...                        0.06   \n",
       "1               0       0    ...                        0.04   \n",
       "2               0       0    ...                        0.00   \n",
       "3               0       0    ...                        0.17   \n",
       "4               0       0    ...                        0.00   \n",
       "\n",
       "   dst_host_diff_srv_rate  dst_host_same_src_port_rate  \\\n",
       "0                    0.00                         0.00   \n",
       "1                    0.61                         0.02   \n",
       "2                    1.00                         0.28   \n",
       "3                    0.03                         0.02   \n",
       "4                    0.01                         0.03   \n",
       "\n",
       "   dst_host_srv_diff_host_rate  dst_host_serror_rate  \\\n",
       "0                         0.00                   0.0   \n",
       "1                         0.00                   0.0   \n",
       "2                         0.00                   0.0   \n",
       "3                         0.00                   0.0   \n",
       "4                         0.01                   0.0   \n",
       "\n",
       "   dst_host_srv_serror_rate  dst_host_rerror_rate    class  num  categorie  \n",
       "0                      1.00                  1.00  neptune   21        DOS  \n",
       "1                      0.00                  0.00   normal   21     normal  \n",
       "2                      0.00                  0.00    saint   15    unknown  \n",
       "3                      0.83                  0.71    mscan   11    unknown  \n",
       "4                      0.00                  0.00   normal   21     normal  \n",
       "\n",
       "[5 rows x 45 columns]"
      ]
     },
     "execution_count": 4,
     "metadata": {},
     "output_type": "execute_result"
    }
   ],
   "source": [
    "kddtest.head()"
   ]
  },
  {
   "cell_type": "code",
   "execution_count": 5,
   "metadata": {},
   "outputs": [
    {
     "name": "stdout",
     "output_type": "stream",
     "text": [
      "<class 'pandas.core.frame.DataFrame'>\n",
      "RangeIndex: 125973 entries, 0 to 125972\n",
      "Data columns (total 45 columns):\n",
      "ID                             125973 non-null int64\n",
      "duration                       125973 non-null int64\n",
      "protocol_type                  125973 non-null object\n",
      "service                        125973 non-null object\n",
      "flag                           125973 non-null object\n",
      "src_bytes                      125973 non-null int64\n",
      "dst_bytes                      125973 non-null int64\n",
      "land                           125973 non-null int64\n",
      "wrong_fragment                 125973 non-null int64\n",
      "urgent                         125973 non-null int64\n",
      "hot                            125973 non-null int64\n",
      "num_failed_logins              125973 non-null int64\n",
      "logged_in                      125973 non-null int64\n",
      "num_compromised                125973 non-null int64\n",
      "root_shell                     125973 non-null int64\n",
      "su_attempted                   125973 non-null int64\n",
      "num_root                       125973 non-null int64\n",
      "num_file_creations             125973 non-null int64\n",
      "num_shells                     125973 non-null int64\n",
      "num_access_files               125973 non-null int64\n",
      "num_outbound_cmds              125973 non-null int64\n",
      "is_host_login                  125973 non-null int64\n",
      "is_guest_login                 125973 non-null int64\n",
      "count                          125973 non-null int64\n",
      "srv_count                      125973 non-null int64\n",
      "serror_rate                    125973 non-null float64\n",
      "srv_serror_rate                125973 non-null float64\n",
      "rerror_rate                    125973 non-null float64\n",
      "srv_rerror_rate                125973 non-null float64\n",
      "srv_rerror_rate.1              125973 non-null float64\n",
      "same_srv_rate                  125973 non-null float64\n",
      "diff_srv_rate                  125973 non-null float64\n",
      "srv_diff_host_rate             125973 non-null int64\n",
      "dst_host_count                 125973 non-null int64\n",
      "dst_host_srv_count             125973 non-null float64\n",
      "dst_host_same_srv_rate         125973 non-null float64\n",
      "dst_host_diff_srv_rate         125973 non-null float64\n",
      "dst_host_same_src_port_rate    125973 non-null float64\n",
      "dst_host_srv_diff_host_rate    125973 non-null float64\n",
      "dst_host_serror_rate           125973 non-null float64\n",
      "dst_host_srv_serror_rate       125973 non-null float64\n",
      "dst_host_rerror_rate           125973 non-null float64\n",
      "class                          125973 non-null object\n",
      "num                            125973 non-null int64\n",
      "categorie                      125973 non-null object\n",
      "dtypes: float64(15), int64(25), object(5)\n",
      "memory usage: 43.2+ MB\n"
     ]
    }
   ],
   "source": [
    "kddtrain.info()"
   ]
  },
  {
   "cell_type": "code",
   "execution_count": 6,
   "metadata": {},
   "outputs": [
    {
     "name": "stdout",
     "output_type": "stream",
     "text": [
      "<class 'pandas.core.frame.DataFrame'>\n",
      "RangeIndex: 22542 entries, 0 to 22541\n",
      "Data columns (total 45 columns):\n",
      "ID                             22542 non-null int64\n",
      "duration                       22542 non-null int64\n",
      "protocol_type                  22542 non-null object\n",
      "service                        22542 non-null object\n",
      "flag                           22542 non-null object\n",
      "src_bytes                      22542 non-null int64\n",
      "dst_bytes                      22542 non-null int64\n",
      "land                           22542 non-null int64\n",
      "wrong_fragment                 22542 non-null int64\n",
      "urgent                         22542 non-null int64\n",
      "hot                            22542 non-null int64\n",
      "num_failed_logins              22542 non-null int64\n",
      "logged_in                      22542 non-null int64\n",
      "num_compromised                22542 non-null int64\n",
      "root_shell                     22542 non-null int64\n",
      "su_attempted                   22542 non-null int64\n",
      "num_root                       22542 non-null int64\n",
      "num_file_creations             22542 non-null int64\n",
      "num_shells                     22542 non-null int64\n",
      "num_access_files               22542 non-null int64\n",
      "num_outbound_cmds              22542 non-null int64\n",
      "is_host_login                  22542 non-null int64\n",
      "is_guest_login                 22542 non-null int64\n",
      "count                          22542 non-null int64\n",
      "srv_count                      22542 non-null int64\n",
      "serror_rate                    22542 non-null float64\n",
      "srv_serror_rate                22542 non-null float64\n",
      "rerror_rate                    22542 non-null float64\n",
      "srv_rerror_rate                22542 non-null float64\n",
      "srv_rerror_rate.1              22542 non-null float64\n",
      "same_srv_rate                  22542 non-null float64\n",
      "diff_srv_rate                  22542 non-null float64\n",
      "srv_diff_host_rate             22542 non-null int64\n",
      "dst_host_count                 22542 non-null int64\n",
      "dst_host_srv_count             22542 non-null float64\n",
      "dst_host_same_srv_rate         22542 non-null float64\n",
      "dst_host_diff_srv_rate         22542 non-null float64\n",
      "dst_host_same_src_port_rate    22542 non-null float64\n",
      "dst_host_srv_diff_host_rate    22542 non-null float64\n",
      "dst_host_serror_rate           22542 non-null float64\n",
      "dst_host_srv_serror_rate       22542 non-null float64\n",
      "dst_host_rerror_rate           22542 non-null float64\n",
      "class                          22542 non-null object\n",
      "num                            22542 non-null int64\n",
      "categorie                      22542 non-null object\n",
      "dtypes: float64(15), int64(25), object(5)\n",
      "memory usage: 7.7+ MB\n"
     ]
    }
   ],
   "source": [
    "kddtest.info()"
   ]
  },
  {
   "cell_type": "markdown",
   "metadata": {},
   "source": [
    "# show count categorie of attacks"
   ]
  },
  {
   "cell_type": "code",
   "execution_count": 7,
   "metadata": {},
   "outputs": [
    {
     "data": {
      "text/plain": [
       "<matplotlib.axes._subplots.AxesSubplot at 0x24376431048>"
      ]
     },
     "execution_count": 7,
     "metadata": {},
     "output_type": "execute_result"
    },
    {
     "data": {
      "image/png": "[encoded data removed]",
      "text/plain": [
       "<Figure size 432x288 with 1 Axes>"
      ]
     },
     "metadata": {
      "needs_background": "light"
     },
     "output_type": "display_data"
    }
   ],
   "source": [
    "sns.countplot(x='categorie',data=kddtrain)"
   ]
  },
  {
   "cell_type": "code",
   "execution_count": 8,
   "metadata": {},
   "outputs": [
    {
     "data": {
      "text/plain": [
       "<matplotlib.axes._subplots.AxesSubplot at 0x24376499ef0>"
      ]
     },
     "execution_count": 8,
     "metadata": {},
     "output_type": "execute_result"
    },
    {
     "data": {
      "image/png": "[encoded data removed]",
      "text/plain": [
       "<Figure size 432x288 with 1 Axes>"
      ]
     },
     "metadata": {
      "needs_background": "light"
     },
     "output_type": "display_data"
    }
   ],
   "source": [
    "sns.countplot(x='categorie',data=kddtest)"
   ]
  },
  {
   "cell_type": "markdown",
   "metadata": {},
   "source": [
    "# Data normalization"
   ]
  },
  {
   "cell_type": "code",
   "execution_count": 9,
   "metadata": {},
   "outputs": [
    {
     "data": {
      "text/html": [
       "<div>\n",
       "<style scoped>\n",
       "    .dataframe tbody tr th:only-of-type {\n",
       "        vertical-align: middle;\n",
       "    }\n",
       "\n",
       "    .dataframe tbody tr th {\n",
       "        vertical-align: top;\n",
       "    }\n",
       "\n",
       "    .dataframe thead th {\n",
       "        text-align: right;\n",
       "    }\n",
       "</style>\n",
       "<table border=\"1\" class=\"dataframe\">\n",
       "  <thead>\n",
       "    <tr style=\"text-align: right;\">\n",
       "      <th></th>\n",
       "      <th>ID</th>\n",
       "      <th>duration</th>\n",
       "      <th>protocol_type</th>\n",
       "      <th>service</th>\n",
       "      <th>flag</th>\n",
       "      <th>src_bytes</th>\n",
       "      <th>dst_bytes</th>\n",
       "      <th>land</th>\n",
       "      <th>wrong_fragment</th>\n",
       "      <th>urgent</th>\n",
       "      <th>...</th>\n",
       "      <th>dst_host_same_srv_rate</th>\n",
       "      <th>dst_host_diff_srv_rate</th>\n",
       "      <th>dst_host_same_src_port_rate</th>\n",
       "      <th>dst_host_srv_diff_host_rate</th>\n",
       "      <th>dst_host_serror_rate</th>\n",
       "      <th>dst_host_srv_serror_rate</th>\n",
       "      <th>dst_host_rerror_rate</th>\n",
       "      <th>class</th>\n",
       "      <th>num</th>\n",
       "      <th>categorie</th>\n",
       "    </tr>\n",
       "  </thead>\n",
       "  <tbody>\n",
       "    <tr>\n",
       "      <th>0</th>\n",
       "      <td>0</td>\n",
       "      <td>0</td>\n",
       "      <td>tcp</td>\n",
       "      <td>ftp_data</td>\n",
       "      <td>SF</td>\n",
       "      <td>491</td>\n",
       "      <td>0</td>\n",
       "      <td>0</td>\n",
       "      <td>0</td>\n",
       "      <td>0</td>\n",
       "      <td>...</td>\n",
       "      <td>0.03</td>\n",
       "      <td>0.17</td>\n",
       "      <td>0.00</td>\n",
       "      <td>0.00</td>\n",
       "      <td>0.00</td>\n",
       "      <td>0.05</td>\n",
       "      <td>0.00</td>\n",
       "      <td>normal</td>\n",
       "      <td>20</td>\n",
       "      <td>normal</td>\n",
       "    </tr>\n",
       "    <tr>\n",
       "      <th>1</th>\n",
       "      <td>1</td>\n",
       "      <td>0</td>\n",
       "      <td>udp</td>\n",
       "      <td>other</td>\n",
       "      <td>SF</td>\n",
       "      <td>146</td>\n",
       "      <td>0</td>\n",
       "      <td>0</td>\n",
       "      <td>0</td>\n",
       "      <td>0</td>\n",
       "      <td>...</td>\n",
       "      <td>0.60</td>\n",
       "      <td>0.88</td>\n",
       "      <td>0.00</td>\n",
       "      <td>0.00</td>\n",
       "      <td>0.00</td>\n",
       "      <td>0.00</td>\n",
       "      <td>0.00</td>\n",
       "      <td>normal</td>\n",
       "      <td>15</td>\n",
       "      <td>normal</td>\n",
       "    </tr>\n",
       "    <tr>\n",
       "      <th>2</th>\n",
       "      <td>2</td>\n",
       "      <td>0</td>\n",
       "      <td>tcp</td>\n",
       "      <td>private</td>\n",
       "      <td>S0</td>\n",
       "      <td>0</td>\n",
       "      <td>0</td>\n",
       "      <td>0</td>\n",
       "      <td>0</td>\n",
       "      <td>0</td>\n",
       "      <td>...</td>\n",
       "      <td>0.05</td>\n",
       "      <td>0.00</td>\n",
       "      <td>0.00</td>\n",
       "      <td>1.00</td>\n",
       "      <td>1.00</td>\n",
       "      <td>0.00</td>\n",
       "      <td>0.00</td>\n",
       "      <td>neptune</td>\n",
       "      <td>19</td>\n",
       "      <td>DOS</td>\n",
       "    </tr>\n",
       "    <tr>\n",
       "      <th>3</th>\n",
       "      <td>3</td>\n",
       "      <td>0</td>\n",
       "      <td>tcp</td>\n",
       "      <td>http</td>\n",
       "      <td>SF</td>\n",
       "      <td>232</td>\n",
       "      <td>8153</td>\n",
       "      <td>0</td>\n",
       "      <td>0</td>\n",
       "      <td>0</td>\n",
       "      <td>...</td>\n",
       "      <td>0.00</td>\n",
       "      <td>0.03</td>\n",
       "      <td>0.04</td>\n",
       "      <td>0.03</td>\n",
       "      <td>0.01</td>\n",
       "      <td>0.00</td>\n",
       "      <td>0.01</td>\n",
       "      <td>normal</td>\n",
       "      <td>21</td>\n",
       "      <td>normal</td>\n",
       "    </tr>\n",
       "    <tr>\n",
       "      <th>4</th>\n",
       "      <td>4</td>\n",
       "      <td>0</td>\n",
       "      <td>tcp</td>\n",
       "      <td>http</td>\n",
       "      <td>SF</td>\n",
       "      <td>199</td>\n",
       "      <td>420</td>\n",
       "      <td>0</td>\n",
       "      <td>0</td>\n",
       "      <td>0</td>\n",
       "      <td>...</td>\n",
       "      <td>0.00</td>\n",
       "      <td>0.00</td>\n",
       "      <td>0.00</td>\n",
       "      <td>0.00</td>\n",
       "      <td>0.00</td>\n",
       "      <td>0.00</td>\n",
       "      <td>0.00</td>\n",
       "      <td>normal</td>\n",
       "      <td>21</td>\n",
       "      <td>normal</td>\n",
       "    </tr>\n",
       "  </tbody>\n",
       "</table>\n",
       "<p>5 rows × 45 columns</p>\n",
       "</div>"
      ],
      "text/plain": [
       "   ID  duration protocol_type   service flag  src_bytes  dst_bytes  land  \\\n",
       "0   0         0           tcp  ftp_data   SF        491          0     0   \n",
       "1   1         0           udp     other   SF        146          0     0   \n",
       "2   2         0           tcp   private   S0          0          0     0   \n",
       "3   3         0           tcp      http   SF        232       8153     0   \n",
       "4   4         0           tcp      http   SF        199        420     0   \n",
       "\n",
       "   wrong_fragment  urgent    ...      dst_host_same_srv_rate  \\\n",
       "0               0       0    ...                        0.03   \n",
       "1               0       0    ...                        0.60   \n",
       "2               0       0    ...                        0.05   \n",
       "3               0       0    ...                        0.00   \n",
       "4               0       0    ...                        0.00   \n",
       "\n",
       "   dst_host_diff_srv_rate  dst_host_same_src_port_rate  \\\n",
       "0                    0.17                         0.00   \n",
       "1                    0.88                         0.00   \n",
       "2                    0.00                         0.00   \n",
       "3                    0.03                         0.04   \n",
       "4                    0.00                         0.00   \n",
       "\n",
       "   dst_host_srv_diff_host_rate  dst_host_serror_rate  \\\n",
       "0                         0.00                  0.00   \n",
       "1                         0.00                  0.00   \n",
       "2                         1.00                  1.00   \n",
       "3                         0.03                  0.01   \n",
       "4                         0.00                  0.00   \n",
       "\n",
       "   dst_host_srv_serror_rate  dst_host_rerror_rate    class  num  categorie  \n",
       "0                      0.05                  0.00   normal   20     normal  \n",
       "1                      0.00                  0.00   normal   15     normal  \n",
       "2                      0.00                  0.00  neptune   19        DOS  \n",
       "3                      0.00                  0.01   normal   21     normal  \n",
       "4                      0.00                  0.00   normal   21     normal  \n",
       "\n",
       "[5 rows x 45 columns]"
      ]
     },
     "execution_count": 9,
     "metadata": {},
     "output_type": "execute_result"
    }
   ],
   "source": [
    "kddtrain.head()"
   ]
  },
  {
   "cell_type": "markdown",
   "metadata": {},
   "source": [
    " # Checking for missing values"
   ]
  },
  {
   "cell_type": "code",
   "execution_count": 10,
   "metadata": {},
   "outputs": [
    {
     "data": {
      "text/plain": [
       "ID                             0\n",
       "duration                       0\n",
       "protocol_type                  0\n",
       "service                        0\n",
       "flag                           0\n",
       "src_bytes                      0\n",
       "dst_bytes                      0\n",
       "land                           0\n",
       "wrong_fragment                 0\n",
       "urgent                         0\n",
       "hot                            0\n",
       "num_failed_logins              0\n",
       "logged_in                      0\n",
       "num_compromised                0\n",
       "root_shell                     0\n",
       "su_attempted                   0\n",
       "num_root                       0\n",
       "num_file_creations             0\n",
       "num_shells                     0\n",
       "num_access_files               0\n",
       "num_outbound_cmds              0\n",
       "is_host_login                  0\n",
       "is_guest_login                 0\n",
       "count                          0\n",
       "srv_count                      0\n",
       "serror_rate                    0\n",
       "srv_serror_rate                0\n",
       "rerror_rate                    0\n",
       "srv_rerror_rate                0\n",
       "srv_rerror_rate.1              0\n",
       "same_srv_rate                  0\n",
       "diff_srv_rate                  0\n",
       "srv_diff_host_rate             0\n",
       "dst_host_count                 0\n",
       "dst_host_srv_count             0\n",
       "dst_host_same_srv_rate         0\n",
       "dst_host_diff_srv_rate         0\n",
       "dst_host_same_src_port_rate    0\n",
       "dst_host_srv_diff_host_rate    0\n",
       "dst_host_serror_rate           0\n",
       "dst_host_srv_serror_rate       0\n",
       "dst_host_rerror_rate           0\n",
       "class                          0\n",
       "num                            0\n",
       "categorie                      0\n",
       "dtype: int64"
      ]
     },
     "execution_count": 10,
     "metadata": {},
     "output_type": "execute_result"
    }
   ],
   "source": [
    "kddtrain.isna().sum()"
   ]
  },
  {
   "cell_type": "markdown",
   "metadata": {},
   "source": [
    "# Encoding dummy variables\n"
   ]
  },
  {
   "cell_type": "code",
   "execution_count": 11,
   "metadata": {},
   "outputs": [],
   "source": [
    "dummies=['protocol_type','service','flag']\n",
    "dataset_Train_dummied = pd.get_dummies(kddtrain, columns=dummies)\n",
    "dataset_Train_dummied = dataset_Train_dummied.drop('ID', axis=1)\n"
   ]
  },
  {
   "cell_type": "code",
   "execution_count": 12,
   "metadata": {},
   "outputs": [],
   "source": [
    "dummies=['protocol_type','service','flag']\n",
    "dataset_Test_dummied = pd.get_dummies(kddtest, columns=dummies)\n",
    "dataset_Test_dummied = dataset_Test_dummied.drop('ID', axis=1)"
   ]
  },
  {
   "cell_type": "code",
   "execution_count": 13,
   "metadata": {},
   "outputs": [
    {
     "name": "stdout",
     "output_type": "stream",
     "text": [
      "<class 'pandas.core.frame.DataFrame'>\n",
      "RangeIndex: 125973 entries, 0 to 125972\n",
      "Columns: 125 entries, duration to flag_SH\n",
      "dtypes: float64(15), int64(24), object(2), uint8(84)\n",
      "memory usage: 49.5+ MB\n"
     ]
    }
   ],
   "source": [
    "dataset_Train_dummied.info()"
   ]
  },
  {
   "cell_type": "code",
   "execution_count": 54,
   "metadata": {},
   "outputs": [
    {
     "data": {
      "text/plain": [
       "Index(['duration', 'src_bytes', 'dst_bytes', 'land', 'wrong_fragment',\n",
       "       'urgent', 'hot', 'num_failed_logins', 'logged_in', 'num_compromised',\n",
       "       ...\n",
       "       'flag_REJ', 'flag_RSTO', 'flag_RSTOS0', 'flag_RSTR', 'flag_S0',\n",
       "       'flag_S1', 'flag_S2', 'flag_S3', 'flag_SF', 'flag_SH'],\n",
       "      dtype='object', length=118)"
      ]
     },
     "execution_count": 54,
     "metadata": {},
     "output_type": "execute_result"
    }
   ],
   "source": [
    "dataset_Test_dummied.columns"
   ]
  },
  {
   "cell_type": "code",
   "execution_count": 55,
   "metadata": {},
   "outputs": [
    {
     "data": {
      "text/plain": [
       "duration              0\n",
       "src_bytes             0\n",
       "dst_bytes             0\n",
       "land                  0\n",
       "wrong_fragment        0\n",
       "urgent                0\n",
       "hot                   0\n",
       "num_failed_logins     0\n",
       "logged_in             0\n",
       "num_compromised       0\n",
       "root_shell            0\n",
       "su_attempted          0\n",
       "num_root              0\n",
       "num_file_creations    0\n",
       "num_shells            0\n",
       "num_access_files      0\n",
       "num_outbound_cmds     0\n",
       "is_host_login         0\n",
       "is_guest_login        0\n",
       "count                 0\n",
       "srv_count             0\n",
       "serror_rate           0\n",
       "srv_serror_rate       0\n",
       "rerror_rate           0\n",
       "srv_rerror_rate       0\n",
       "srv_rerror_rate.1     0\n",
       "same_srv_rate         0\n",
       "diff_srv_rate         0\n",
       "srv_diff_host_rate    0\n",
       "dst_host_count        0\n",
       "                     ..\n",
       "service_printer       0\n",
       "service_private       0\n",
       "service_remote_job    0\n",
       "service_rje           0\n",
       "service_shell         0\n",
       "service_smtp          0\n",
       "service_sql_net       0\n",
       "service_ssh           0\n",
       "service_sunrpc        0\n",
       "service_supdup        0\n",
       "service_systat        0\n",
       "service_telnet        0\n",
       "service_tim_i         0\n",
       "service_time          0\n",
       "service_urp_i         0\n",
       "service_uucp          0\n",
       "service_uucp_path     0\n",
       "service_vmnet         0\n",
       "service_whois         0\n",
       "flag_OTH              0\n",
       "flag_REJ              0\n",
       "flag_RSTO             0\n",
       "flag_RSTOS0           0\n",
       "flag_RSTR             0\n",
       "flag_S0               0\n",
       "flag_S1               0\n",
       "flag_S2               0\n",
       "flag_S3               0\n",
       "flag_SF               0\n",
       "flag_SH               0\n",
       "Length: 118, dtype: int64"
      ]
     },
     "execution_count": 55,
     "metadata": {},
     "output_type": "execute_result"
    }
   ],
   "source": [
    "dataset_Test_dummied.isna().sum()"
   ]
  },
  {
   "cell_type": "code",
   "execution_count": 15,
   "metadata": {},
   "outputs": [
    {
     "data": {
      "text/plain": [
       "array(['normal', 'DOS', 'R2L', 'prob', 'U2R', 'unknown'], dtype=object)"
      ]
     },
     "execution_count": 15,
     "metadata": {},
     "output_type": "execute_result"
    }
   ],
   "source": [
    "dataset_Train_dummied['categorie'].unique()\n"
   ]
  },
  {
   "cell_type": "code",
   "execution_count": 16,
   "metadata": {},
   "outputs": [
    {
     "data": {
      "text/plain": [
       "array(['DOS', 'normal', 'unknown', 'R2L', 'prob', 'U2R'], dtype=object)"
      ]
     },
     "execution_count": 16,
     "metadata": {},
     "output_type": "execute_result"
    }
   ],
   "source": [
    "dataset_Test_dummied['categorie'].unique()\n"
   ]
  },
  {
   "cell_type": "code",
   "execution_count": 17,
   "metadata": {},
   "outputs": [],
   "source": [
    "dataset_Train_dummied['categorie'] = dataset_Train_dummied['categorie'].map( {'DOS': 0, 'U2R': 1,'R2L':2,'prob':3,'normal':4,'unknown':5} ).astype(int)"
   ]
  },
  {
   "cell_type": "code",
   "execution_count": 18,
   "metadata": {},
   "outputs": [],
   "source": [
    "dataset_Test_dummied['categorie'] = dataset_Test_dummied['categorie'].map( {'DOS': 0, 'U2R': 1,'R2L':2,'prob':3,'normal':4,'unknown':5} ).astype(int)"
   ]
  },
  {
   "cell_type": "code",
   "execution_count": 19,
   "metadata": {},
   "outputs": [
    {
     "data": {
      "text/plain": [
       "array([4, 0, 2, 3, 1, 5], dtype=int64)"
      ]
     },
     "execution_count": 19,
     "metadata": {},
     "output_type": "execute_result"
    }
   ],
   "source": [
    "dataset_Train_dummied['categorie'].unique()"
   ]
  },
  {
   "cell_type": "code",
   "execution_count": 20,
   "metadata": {},
   "outputs": [
    {
     "data": {
      "text/plain": [
       "array([0, 4, 5, 2, 3, 1], dtype=int64)"
      ]
     },
     "execution_count": 20,
     "metadata": {},
     "output_type": "execute_result"
    }
   ],
   "source": [
    "dataset_Test_dummied['categorie'].unique()"
   ]
  },
  {
   "cell_type": "code",
   "execution_count": 21,
   "metadata": {},
   "outputs": [],
   "source": [
    "X=dataset_Train_dummied.loc[:, dataset_Train_dummied.columns != 'categorie']\n"
   ]
  },
  {
   "cell_type": "code",
   "execution_count": 22,
   "metadata": {},
   "outputs": [],
   "source": [
    "X = X.drop('class', axis=1)\n"
   ]
  },
  {
   "cell_type": "code",
   "execution_count": 23,
   "metadata": {},
   "outputs": [],
   "source": [
    "X=X.drop('num',axis=1)"
   ]
  },
  {
   "cell_type": "code",
   "execution_count": 58,
   "metadata": {},
   "outputs": [],
   "source": [
    "y=dataset_Train_dummied['class']"
   ]
  },
  {
   "cell_type": "code",
   "execution_count": 25,
   "metadata": {},
   "outputs": [],
   "source": [
    "Xtest=dataset_Test_dummied.loc[:, dataset_Test_dummied.columns != 'categorie']\n",
    "Xtest = Xtest.drop('class', axis=1)\n",
    "Xtest=Xtest.drop('num',axis=1)"
   ]
  },
  {
   "cell_type": "code",
   "execution_count": 56,
   "metadata": {},
   "outputs": [],
   "source": [
    "ytest=dataset_Test_dummied['categorie']"
   ]
  },
  {
   "cell_type": "markdown",
   "metadata": {},
   "source": [
    "# Model creation\n"
   ]
  },
  {
   "cell_type": "markdown",
   "metadata": {},
   "source": [
    "# Spliting dataset_Train into train and test"
   ]
  },
  {
   "cell_type": "code",
   "execution_count": 60,
   "metadata": {},
   "outputs": [],
   "source": [
    "X_train,X_test,y_train,y_test=train_test_split(X,y,test_size=0.2,random_state=10)"
   ]
  },
  {
   "cell_type": "markdown",
   "metadata": {},
   "source": [
    "# Trying Decision tree"
   ]
  },
  {
   "cell_type": "code",
   "execution_count": 64,
   "metadata": {},
   "outputs": [],
   "source": [
    "clf = tree.DecisionTreeClassifier()\n",
    "clf = clf.fit(X_train, y_train)"
   ]
  },
  {
   "cell_type": "code",
   "execution_count": 29,
   "metadata": {},
   "outputs": [],
   "source": [
    "y_pred = clf.predict(X_test)"
   ]
  },
  {
   "cell_type": "code",
   "execution_count": 30,
   "metadata": {},
   "outputs": [],
   "source": [
    "accuracy = accuracy_score(y_test,y_pred)"
   ]
  },
  {
   "cell_type": "code",
   "execution_count": 31,
   "metadata": {},
   "outputs": [
    {
     "data": {
      "text/plain": [
       "0.9978170271879341"
      ]
     },
     "execution_count": 31,
     "metadata": {},
     "output_type": "execute_result"
    }
   ],
   "source": [
    "accuracy"
   ]
  },
  {
   "cell_type": "markdown",
   "metadata": {},
   "source": [
    "#  Trying Naive Bayes"
   ]
  },
  {
   "cell_type": "code",
   "execution_count": 32,
   "metadata": {},
   "outputs": [],
   "source": [
    "gnb = GaussianNB()\n",
    "gnb = gnb.fit(X_train, y_train)"
   ]
  },
  {
   "cell_type": "code",
   "execution_count": 33,
   "metadata": {},
   "outputs": [],
   "source": [
    "y_pred = gnb.predict(X_test)"
   ]
  },
  {
   "cell_type": "code",
   "execution_count": 34,
   "metadata": {},
   "outputs": [],
   "source": [
    "accuracy = accuracy_score(y_test,y_pred)"
   ]
  },
  {
   "cell_type": "code",
   "execution_count": 35,
   "metadata": {},
   "outputs": [
    {
     "data": {
      "text/plain": [
       "0.4015876165905934"
      ]
     },
     "execution_count": 35,
     "metadata": {},
     "output_type": "execute_result"
    }
   ],
   "source": [
    "accuracy"
   ]
  },
  {
   "cell_type": "markdown",
   "metadata": {},
   "source": [
    "# Trying  MLPClassifier"
   ]
  },
  {
   "cell_type": "code",
   "execution_count": 36,
   "metadata": {},
   "outputs": [],
   "source": [
    "from sklearn.neural_network import MLPClassifier\n",
    "import matplotlib.pyplot as plt\n"
   ]
  },
  {
   "cell_type": "code",
   "execution_count": 37,
   "metadata": {},
   "outputs": [],
   "source": [
    "mlp = MLPClassifier(hidden_layer_sizes=(60,), max_iter=100, alpha=1e-4,\n",
    "                    solver='sgd', verbose=10, random_state=10,\n",
    "                    learning_rate_init=.0001)"
   ]
  },
  {
   "cell_type": "code",
   "execution_count": 38,
   "metadata": {},
   "outputs": [
    {
     "name": "stdout",
     "output_type": "stream",
     "text": [
      "Iteration 1, loss = 2.38067836\n",
      "Iteration 2, loss = 4.00209882\n",
      "Iteration 3, loss = 3.84145843\n",
      "Iteration 4, loss = 3.59602140\n",
      "Training loss did not improve more than tol=0.000100 for two consecutive epochs. Stopping.\n"
     ]
    },
    {
     "data": {
      "text/plain": [
       "MLPClassifier(activation='relu', alpha=0.0001, batch_size='auto', beta_1=0.9,\n",
       "       beta_2=0.999, early_stopping=False, epsilon=1e-08,\n",
       "       hidden_layer_sizes=(60,), learning_rate='constant',\n",
       "       learning_rate_init=0.0001, max_iter=100, momentum=0.9,\n",
       "       nesterovs_momentum=True, power_t=0.5, random_state=10, shuffle=True,\n",
       "       solver='sgd', tol=0.0001, validation_fraction=0.1, verbose=10,\n",
       "       warm_start=False)"
      ]
     },
     "execution_count": 38,
     "metadata": {},
     "output_type": "execute_result"
    }
   ],
   "source": [
    "mlp.fit(X_train, y_train)\n"
   ]
  },
  {
   "cell_type": "code",
   "execution_count": 39,
   "metadata": {},
   "outputs": [],
   "source": [
    "y_pred = mlp.predict(X_test)"
   ]
  },
  {
   "cell_type": "code",
   "execution_count": 40,
   "metadata": {},
   "outputs": [],
   "source": [
    "accuracy = accuracy_score(y_test,y_pred)"
   ]
  },
  {
   "cell_type": "code",
   "execution_count": 41,
   "metadata": {},
   "outputs": [
    {
     "data": {
      "text/plain": [
       "0.911371303830125"
      ]
     },
     "execution_count": 41,
     "metadata": {},
     "output_type": "execute_result"
    }
   ],
   "source": [
    "accuracy"
   ]
  },
  {
   "cell_type": "raw",
   "metadata": {},
   "source": [
    "Support Vector Machines"
   ]
  },
  {
   "cell_type": "code",
   "execution_count": 42,
   "metadata": {},
   "outputs": [],
   "source": [
    "from sklearn import svm\n",
    "svm = svm.SVC()"
   ]
  },
  {
   "cell_type": "code",
   "execution_count": 43,
   "metadata": {},
   "outputs": [],
   "source": [
    "#svm.fit(X_train, y_train)\n"
   ]
  },
  {
   "cell_type": "code",
   "execution_count": 44,
   "metadata": {},
   "outputs": [],
   "source": [
    "#y_pred = svm.predict(X_test)\n",
    "\n",
    "#accuracy = accuracy_score(y_test,y_pred)"
   ]
  },
  {
   "cell_type": "markdown",
   "metadata": {},
   "source": [
    "# K-folds and cross validation\n"
   ]
  },
  {
   "cell_type": "code",
   "execution_count": 45,
   "metadata": {},
   "outputs": [],
   "source": [
    "from sklearn.model_selection import KFold\n",
    "from sklearn.model_selection import cross_val_score\n",
    "\n",
    "k_fold = KFold(n_splits = 10, shuffle = True, random_state  =0)"
   ]
  },
  {
   "cell_type": "code",
   "execution_count": 46,
   "metadata": {},
   "outputs": [
    {
     "name": "stdout",
     "output_type": "stream",
     "text": [
      "[0.99761858 0.99692399 0.99702322 0.99672554 0.9973209  0.99821393\n",
      " 0.99761858 0.99821393 0.9972214  0.99712216]\n"
     ]
    }
   ],
   "source": [
    "tree = tree.DecisionTreeClassifier()\n",
    "scoring = 'accuracy'\n",
    "score = cross_val_score(tree,X_train, y_train, cv= k_fold, n_jobs=1, scoring=scoring)\n",
    "print(score)"
   ]
  },
  {
   "cell_type": "markdown",
   "metadata": {},
   "source": [
    "# Trying  MLPClassifier"
   ]
  },
  {
   "cell_type": "code",
   "execution_count": 47,
   "metadata": {},
   "outputs": [
    {
     "name": "stdout",
     "output_type": "stream",
     "text": [
      "Iteration 1, loss = 2.17345991\n",
      "Iteration 2, loss = 1.88201649\n",
      "Iteration 3, loss = 1.74430647\n",
      "Iteration 4, loss = 1.63861693\n",
      "Iteration 5, loss = 1.54092624\n",
      "Iteration 6, loss = 1.44482200\n",
      "Iteration 7, loss = 1.28591165\n",
      "Iteration 8, loss = 1.19800295\n",
      "Iteration 9, loss = 1.14400912\n",
      "Iteration 10, loss = 1.08742144\n",
      "Iteration 11, loss = 1.03876530\n",
      "Iteration 12, loss = 0.99208064\n",
      "Iteration 13, loss = 0.95170175\n",
      "Iteration 14, loss = 0.91562663\n",
      "Iteration 15, loss = 0.88223415\n",
      "Iteration 16, loss = 0.85223593\n",
      "Iteration 17, loss = 0.82348417\n",
      "Iteration 18, loss = 0.80042772\n",
      "Iteration 19, loss = 0.77605019\n",
      "Iteration 20, loss = 0.75388717\n",
      "Iteration 21, loss = 0.73205274\n",
      "Iteration 22, loss = 0.70597061\n",
      "Iteration 23, loss = 0.77659572\n",
      "Iteration 24, loss = 0.73672241\n",
      "Iteration 25, loss = 0.70595116\n",
      "Training loss did not improve more than tol=0.000100 for two consecutive epochs. Stopping.\n",
      "Iteration 1, loss = 443.54717729\n",
      "Iteration 2, loss = 468.16434804\n",
      "Iteration 3, loss = 468.04319677\n",
      "Iteration 4, loss = 467.93035275\n",
      "Training loss did not improve more than tol=0.000100 for two consecutive epochs. Stopping.\n",
      "Iteration 1, loss = 1.97128553\n",
      "Iteration 2, loss = 1.62403647\n",
      "Iteration 3, loss = 1.59578879\n",
      "Iteration 4, loss = 1.43289900\n",
      "Iteration 5, loss = 1.41161119\n",
      "Iteration 6, loss = 1.32185573\n",
      "Iteration 7, loss = 1.22334252\n",
      "Iteration 8, loss = 1.02038719\n",
      "Iteration 9, loss = 1.09036832\n",
      "Iteration 10, loss = 1.03818798\n",
      "Iteration 11, loss = 0.92004676\n",
      "Iteration 12, loss = 0.85539148\n",
      "Iteration 13, loss = 0.79753369\n",
      "Iteration 14, loss = 0.75564490\n",
      "Iteration 15, loss = 0.71390612\n",
      "Iteration 16, loss = 0.68029762\n",
      "Iteration 17, loss = 0.64858453\n",
      "Iteration 18, loss = 0.62056858\n",
      "Iteration 19, loss = 0.58932476\n",
      "Iteration 20, loss = 0.56680630\n",
      "Iteration 21, loss = 0.54710103\n",
      "Iteration 22, loss = 0.53471459\n",
      "Iteration 23, loss = 0.52319553\n",
      "Iteration 24, loss = 0.50540037\n",
      "Iteration 25, loss = 0.49300533\n",
      "Iteration 26, loss = 0.48161122\n",
      "Iteration 27, loss = 0.47443449\n",
      "Iteration 28, loss = 0.46448422\n",
      "Iteration 29, loss = 0.45485445\n",
      "Iteration 30, loss = 0.44832901\n",
      "Iteration 31, loss = 0.44170066\n",
      "Iteration 32, loss = 0.43391381\n",
      "Iteration 33, loss = 0.42873292\n",
      "Iteration 34, loss = 0.42371735\n",
      "Iteration 35, loss = 0.41976355\n",
      "Iteration 36, loss = 0.41377119\n",
      "Iteration 37, loss = 0.40972804\n",
      "Iteration 38, loss = 0.40556648\n",
      "Iteration 39, loss = 0.40095667\n",
      "Iteration 40, loss = 0.39986434\n",
      "Iteration 41, loss = 0.39468405\n",
      "Iteration 42, loss = 0.39428256\n",
      "Iteration 43, loss = 0.38928778\n",
      "Iteration 44, loss = 0.38504221\n",
      "Iteration 45, loss = 0.38251000\n",
      "Iteration 46, loss = 0.38007757\n",
      "Iteration 47, loss = 0.37850943\n",
      "Iteration 48, loss = 0.37538436\n",
      "Iteration 49, loss = 0.37344111\n",
      "Iteration 50, loss = 0.36955306\n"
     ]
    },
    {
     "name": "stderr",
     "output_type": "stream",
     "text": [
      "C:\\Users\\mmcd\\Anaconda3\\lib\\site-packages\\sklearn\\neural_network\\multilayer_perceptron.py:564: ConvergenceWarning: Stochastic Optimizer: Maximum iterations (50) reached and the optimization hasn't converged yet.\n",
      "  % self.max_iter, ConvergenceWarning)\n"
     ]
    },
    {
     "name": "stdout",
     "output_type": "stream",
     "text": [
      "Iteration 1, loss = 1.99225014\n",
      "Iteration 2, loss = 1.45233380\n",
      "Iteration 3, loss = 1.45508378\n",
      "Iteration 4, loss = 1.30610500\n",
      "Iteration 5, loss = 1.23243679\n",
      "Iteration 6, loss = 1.15990974\n",
      "Iteration 7, loss = 1.07459889\n",
      "Iteration 8, loss = 0.99382040\n",
      "Iteration 9, loss = 0.95138075\n",
      "Iteration 10, loss = 0.85641040\n",
      "Iteration 11, loss = 0.78764176\n",
      "Iteration 12, loss = 0.86004203\n",
      "Iteration 13, loss = 0.81130173\n",
      "Iteration 14, loss = 0.79255137\n",
      "Training loss did not improve more than tol=0.000100 for two consecutive epochs. Stopping.\n",
      "Iteration 1, loss = 22.63375177\n",
      "Iteration 2, loss = 23.01087887\n",
      "Iteration 3, loss = 22.87629065\n",
      "Iteration 4, loss = 22.89370424\n",
      "Training loss did not improve more than tol=0.000100 for two consecutive epochs. Stopping.\n",
      "Iteration 1, loss = 29.69267421\n",
      "Iteration 2, loss = 39.77222058\n",
      "Iteration 3, loss = 39.55331644\n",
      "Iteration 4, loss = 39.37484481\n",
      "Training loss did not improve more than tol=0.000100 for two consecutive epochs. Stopping.\n",
      "Iteration 1, loss = 2.00196688\n",
      "Iteration 2, loss = 1.49095213\n",
      "Iteration 3, loss = 1.42640938\n",
      "Iteration 4, loss = 1.42967641\n",
      "Iteration 5, loss = 1.34062955\n",
      "Iteration 6, loss = 1.25749201\n",
      "Iteration 7, loss = 1.18063340\n",
      "Iteration 8, loss = 1.10883069\n",
      "Iteration 9, loss = 1.03187460\n",
      "Iteration 10, loss = 0.96025207\n",
      "Iteration 11, loss = 0.90803392\n",
      "Iteration 12, loss = 0.86205321\n",
      "Iteration 13, loss = 0.81866423\n",
      "Iteration 14, loss = 0.78029998\n",
      "Iteration 15, loss = 0.74689101\n",
      "Iteration 16, loss = 0.71728988\n",
      "Iteration 17, loss = 0.68991185\n",
      "Iteration 18, loss = 0.66618316\n",
      "Iteration 19, loss = 0.64309481\n",
      "Iteration 20, loss = 0.62346381\n",
      "Iteration 21, loss = 0.60583333\n",
      "Iteration 22, loss = 0.59020822\n",
      "Iteration 23, loss = 0.57585695\n",
      "Iteration 24, loss = 0.56325320\n",
      "Iteration 25, loss = 0.55084493\n",
      "Iteration 26, loss = 0.54112845\n",
      "Iteration 27, loss = 0.53115960\n",
      "Iteration 28, loss = 0.52513205\n",
      "Iteration 29, loss = 0.51661918\n",
      "Iteration 30, loss = 0.50896654\n",
      "Iteration 31, loss = 0.50237859\n",
      "Iteration 32, loss = 0.48026183\n",
      "Iteration 33, loss = 0.45872088\n",
      "Iteration 34, loss = 0.45512642\n",
      "Iteration 35, loss = 0.44938030\n",
      "Iteration 36, loss = 0.44336874\n",
      "Iteration 37, loss = 0.43776070\n",
      "Iteration 38, loss = 0.43291930\n",
      "Iteration 39, loss = 0.42865936\n",
      "Iteration 40, loss = 0.42786512\n",
      "Iteration 41, loss = 0.41986748\n",
      "Iteration 42, loss = 0.41579022\n",
      "Iteration 43, loss = 0.41363673\n",
      "Iteration 44, loss = 0.40859201\n",
      "Iteration 45, loss = 0.42060863\n",
      "Iteration 46, loss = 0.42896938\n",
      "Iteration 47, loss = 0.39061300\n",
      "Iteration 48, loss = 0.36765672\n",
      "Iteration 49, loss = 0.36288712\n",
      "Iteration 50, loss = 0.34804403\n"
     ]
    },
    {
     "name": "stderr",
     "output_type": "stream",
     "text": [
      "C:\\Users\\mmcd\\Anaconda3\\lib\\site-packages\\sklearn\\neural_network\\multilayer_perceptron.py:564: ConvergenceWarning: Stochastic Optimizer: Maximum iterations (50) reached and the optimization hasn't converged yet.\n",
      "  % self.max_iter, ConvergenceWarning)\n"
     ]
    },
    {
     "name": "stdout",
     "output_type": "stream",
     "text": [
      "Iteration 1, loss = 3.24153923\n",
      "Iteration 2, loss = 2.70492526\n",
      "Iteration 3, loss = 2.60740835\n",
      "Iteration 4, loss = 2.48150645\n",
      "Iteration 5, loss = 2.33193200\n",
      "Iteration 6, loss = 2.12493894\n",
      "Iteration 7, loss = 2.25974597\n",
      "Iteration 8, loss = 2.20342839\n",
      "Iteration 9, loss = 2.16997888\n",
      "Training loss did not improve more than tol=0.000100 for two consecutive epochs. Stopping.\n",
      "Iteration 1, loss = 2.11909268\n",
      "Iteration 2, loss = 1.77996268\n",
      "Iteration 3, loss = 1.60284154\n",
      "Iteration 4, loss = 1.32779574\n",
      "Iteration 5, loss = 1.31493732\n",
      "Iteration 6, loss = 1.19636158\n",
      "Iteration 7, loss = 1.32850846\n",
      "Iteration 8, loss = 1.19329475\n",
      "Iteration 9, loss = 1.11173118\n",
      "Iteration 10, loss = 1.04044062\n",
      "Iteration 11, loss = 0.97545552\n",
      "Iteration 12, loss = 0.91833956\n",
      "Iteration 13, loss = 0.86794235\n",
      "Iteration 14, loss = 0.82040153\n",
      "Iteration 15, loss = 0.77996002\n",
      "Iteration 16, loss = 0.74285452\n",
      "Iteration 17, loss = 0.71147554\n",
      "Iteration 18, loss = 0.68206618\n",
      "Iteration 19, loss = 0.65706628\n",
      "Iteration 20, loss = 0.63339418\n",
      "Iteration 21, loss = 0.61501344\n",
      "Iteration 22, loss = 0.59582125\n",
      "Iteration 23, loss = 0.58107681\n",
      "Iteration 24, loss = 0.56742433\n",
      "Iteration 25, loss = 0.55454750\n",
      "Iteration 26, loss = 0.54192153\n",
      "Iteration 27, loss = 0.53393073\n",
      "Iteration 28, loss = 0.52343856\n",
      "Iteration 29, loss = 0.51561056\n",
      "Iteration 30, loss = 0.50781528\n",
      "Iteration 31, loss = 0.50103640\n",
      "Iteration 32, loss = 0.49505900\n",
      "Iteration 33, loss = 0.48885912\n",
      "Iteration 34, loss = 0.48330746\n",
      "Iteration 35, loss = 0.47809618\n",
      "Iteration 36, loss = 0.47344749\n",
      "Iteration 37, loss = 0.46910031\n",
      "Iteration 38, loss = 0.46532067\n",
      "Iteration 39, loss = 0.46118428\n",
      "Iteration 40, loss = 0.45732328\n",
      "Iteration 41, loss = 0.45423970\n",
      "Iteration 42, loss = 0.45090751\n",
      "Iteration 43, loss = 0.44861683\n",
      "Iteration 44, loss = 0.44559859\n",
      "Iteration 45, loss = 0.45200412\n",
      "Iteration 46, loss = 0.47551538\n",
      "Iteration 47, loss = 0.46636592\n",
      "Training loss did not improve more than tol=0.000100 for two consecutive epochs. Stopping.\n",
      "Iteration 1, loss = 2.85394098\n",
      "Iteration 2, loss = 2.65521079\n",
      "Iteration 3, loss = 2.63518186\n",
      "Iteration 4, loss = 2.48583982\n",
      "Iteration 5, loss = 2.42475589\n",
      "Iteration 6, loss = 2.31881344\n",
      "Iteration 7, loss = 2.26356558\n",
      "Iteration 8, loss = 2.19161028\n",
      "Iteration 9, loss = 2.10312703\n",
      "Iteration 10, loss = 2.02282291\n",
      "Iteration 11, loss = 1.95529541\n",
      "Iteration 12, loss = 1.89470778\n",
      "Iteration 13, loss = 1.84357541\n",
      "Iteration 14, loss = 1.79694487\n",
      "Iteration 15, loss = 1.75412459\n",
      "Iteration 16, loss = 1.71921385\n",
      "Iteration 17, loss = 1.68874303\n",
      "Iteration 18, loss = 1.66147115\n",
      "Iteration 19, loss = 1.63788661\n",
      "Iteration 20, loss = 1.61754059\n",
      "Iteration 21, loss = 1.59874791\n",
      "Iteration 22, loss = 1.58235610\n",
      "Iteration 23, loss = 1.56708065\n",
      "Iteration 24, loss = 1.55435968\n",
      "Iteration 25, loss = 1.54239361\n",
      "Iteration 26, loss = 1.53118889\n",
      "Iteration 27, loss = 1.52157237\n",
      "Iteration 28, loss = 1.51099401\n",
      "Iteration 29, loss = 1.49770332\n",
      "Iteration 30, loss = 1.48370274\n",
      "Iteration 31, loss = 1.47449771\n",
      "Iteration 32, loss = 1.46755593\n",
      "Iteration 33, loss = 1.46455007\n",
      "Iteration 34, loss = 1.46007954\n",
      "Iteration 35, loss = 1.45472775\n",
      "Iteration 36, loss = 1.45098216\n",
      "Iteration 37, loss = 1.44914023\n",
      "Iteration 38, loss = 1.44702783\n",
      "Iteration 39, loss = 1.44267250\n",
      "Iteration 40, loss = 1.43860221\n",
      "Iteration 41, loss = 1.43336284\n",
      "Iteration 42, loss = 1.42933228\n",
      "Iteration 43, loss = 1.60982993\n",
      "Iteration 44, loss = 1.56052206\n",
      "Iteration 45, loss = 1.55712648\n",
      "Training loss did not improve more than tol=0.000100 for two consecutive epochs. Stopping.\n",
      "[0.91952768 0.88628696 0.92706886 0.91565787 0.88827148 0.86515182\n",
      " 0.94125819 0.88479857 0.92378684 0.92408455]\n"
     ]
    }
   ],
   "source": [
    "mlp = MLPClassifier(hidden_layer_sizes=(50,), max_iter=50, alpha=1e-4,\n",
    "                    solver='sgd', verbose=10, random_state=10,\n",
    "                    learning_rate_init=.0001)\n",
    "\n",
    "scoring = 'accuracy'\n",
    "score = cross_val_score(mlp,X_train, y_train, cv= k_fold, scoring=scoring)\n",
    "print(score)"
   ]
  },
  {
   "cell_type": "markdown",
   "metadata": {},
   "source": [
    "# Trying RandomForestClassifier"
   ]
  },
  {
   "cell_type": "code",
   "execution_count": 48,
   "metadata": {},
   "outputs": [
    {
     "name": "stdout",
     "output_type": "stream",
     "text": [
      "[0.99761858 0.99841238 0.99781703 0.99712244 0.99791625 0.99781703\n",
      " 0.99791625 0.9977178  0.9975191  0.99741987]\n"
     ]
    }
   ],
   "source": [
    "forest = RandomForestClassifier()\n",
    "scoring = 'accuracy'\n",
    "score = cross_val_score(forest,X_train, y_train, cv= k_fold, scoring=scoring)\n",
    "print(score)"
   ]
  },
  {
   "cell_type": "code",
   "execution_count": 49,
   "metadata": {},
   "outputs": [
    {
     "name": "stdout",
     "output_type": "stream",
     "text": [
      "[0.38886684 0.40642985 0.41516174 0.4089105  0.3974995  0.40017861\n",
      " 0.4062314  0.39571344 0.39634812 0.40359234]\n"
     ]
    }
   ],
   "source": [
    "gnb = GaussianNB()\n",
    "scoring = 'accuracy'\n",
    "score = cross_val_score(gnb,X_train, y_train, cv= k_fold, scoring=scoring)\n",
    "print(score)\n"
   ]
  },
  {
   "cell_type": "markdown",
   "metadata": {},
   "source": [
    "# Model saving and loading"
   ]
  },
  {
   "cell_type": "code",
   "execution_count": 50,
   "metadata": {},
   "outputs": [],
   "source": [
    "import pickle\n",
    "pickle.dump(clf, open(\"model_tree.pkl\",'wb'))"
   ]
  },
  {
   "cell_type": "code",
   "execution_count": 51,
   "metadata": {},
   "outputs": [],
   "source": [
    "model = pickle.load(open(\"model_tree.pkl\",'rb'))"
   ]
  }
 ],
 "metadata": {
  "kernelspec": {
   "display_name": "Python 3",
   "language": "python",
   "name": "python3"
  },
  "language_info": {
   "codemirror_mode": {
    "name": "ipython",
    "version": 3
   },
   "file_extension": ".py",
   "mimetype": "text/x-python",
   "name": "python",
   "nbconvert_exporter": "python",
   "pygments_lexer": "ipython3",
   "version": "3.7.0"
  }
 },
 "nbformat": 4,
 "nbformat_minor": 2
}
